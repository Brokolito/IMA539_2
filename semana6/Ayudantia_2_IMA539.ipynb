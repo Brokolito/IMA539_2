{
 "cells": [
  {
   "cell_type": "markdown",
   "metadata": {},
   "source": [
    "<h3><center>Clase ejercicios 02 - IMA539.</center></h3>\n",
    "<center>Camilo Calfucoy, Jorge Ruíz</center>\n",
    "\n",
    "<center>Departamento de Ingeniería Matemática</center>\n",
    "\n",
    "<center>Septiembre 23, 2024.</center>"
   ]
  },
  {
   "cell_type": "markdown",
   "metadata": {},
   "source": [
    "## Ejercicios propuestos:\n",
    "\n",
    "1. Cargue la base de datos `Pokemon_DB.csv` en un DataFrame utilizando Pandas."
   ]
  },
  {
   "cell_type": "code",
   "execution_count": 287,
   "metadata": {},
   "outputs": [],
   "source": [
    "# Solución\n",
    "import pandas as pd\n",
    "df=pd.read_csv(\"Pokemon_DB.csv\")"
   ]
  },
  {
   "cell_type": "markdown",
   "metadata": {},
   "source": [
    "2. Realice un análisis exploratorio de los datos identificando variables numéricas y categóricas. Si las variables categórica no están definidas como tal, modifique su tipo. "
   ]
  },
  {
   "cell_type": "code",
   "execution_count": 288,
   "metadata": {},
   "outputs": [
    {
     "name": "stdout",
     "output_type": "stream",
     "text": [
      "<class 'pandas.core.frame.DataFrame'>\n",
      "RangeIndex: 1203 entries, 0 to 1202\n",
      "Data columns (total 13 columns):\n",
      " #   Column      Non-Null Count  Dtype  \n",
      "---  ------      --------------  -----  \n",
      " 0   Name        1203 non-null   object \n",
      " 1   Generation  1203 non-null   int64  \n",
      " 2   Type1       1203 non-null   object \n",
      " 3   Height      1203 non-null   float64\n",
      " 4   Weight      1203 non-null   float64\n",
      " 5   Color       1203 non-null   object \n",
      " 6   Category    1182 non-null   object \n",
      " 7   HP          1179 non-null   float64\n",
      " 8   Attack      1203 non-null   object \n",
      " 9   Defense     1203 non-null   int64  \n",
      " 10  SP_Attack   1203 non-null   int64  \n",
      " 11  SP_Defense  1203 non-null   int64  \n",
      " 12  Speed       1203 non-null   object \n",
      "dtypes: float64(3), int64(4), object(6)\n",
      "memory usage: 122.3+ KB\n"
     ]
    },
    {
     "data": {
      "text/html": [
       "<div>\n",
       "<style scoped>\n",
       "    .dataframe tbody tr th:only-of-type {\n",
       "        vertical-align: middle;\n",
       "    }\n",
       "\n",
       "    .dataframe tbody tr th {\n",
       "        vertical-align: top;\n",
       "    }\n",
       "\n",
       "    .dataframe thead th {\n",
       "        text-align: right;\n",
       "    }\n",
       "</style>\n",
       "<table border=\"1\" class=\"dataframe\">\n",
       "  <thead>\n",
       "    <tr style=\"text-align: right;\">\n",
       "      <th></th>\n",
       "      <th>Name</th>\n",
       "      <th>Generation</th>\n",
       "      <th>Type1</th>\n",
       "      <th>Height</th>\n",
       "      <th>Weight</th>\n",
       "      <th>Color</th>\n",
       "      <th>Category</th>\n",
       "      <th>HP</th>\n",
       "      <th>Attack</th>\n",
       "      <th>Defense</th>\n",
       "      <th>SP_Attack</th>\n",
       "      <th>SP_Defense</th>\n",
       "      <th>Speed</th>\n",
       "    </tr>\n",
       "  </thead>\n",
       "  <tbody>\n",
       "    <tr>\n",
       "      <th>0</th>\n",
       "      <td>Bulbasaur</td>\n",
       "      <td>1</td>\n",
       "      <td>Grass</td>\n",
       "      <td>0.7</td>\n",
       "      <td>6.9</td>\n",
       "      <td>Green</td>\n",
       "      <td>Ordinary</td>\n",
       "      <td>45.0</td>\n",
       "      <td>49</td>\n",
       "      <td>49</td>\n",
       "      <td>65</td>\n",
       "      <td>65</td>\n",
       "      <td>45</td>\n",
       "    </tr>\n",
       "    <tr>\n",
       "      <th>1</th>\n",
       "      <td>Ivysaur</td>\n",
       "      <td>1</td>\n",
       "      <td>Grass</td>\n",
       "      <td>1.0</td>\n",
       "      <td>13.0</td>\n",
       "      <td>Green</td>\n",
       "      <td>Ordinary</td>\n",
       "      <td>60.0</td>\n",
       "      <td>62</td>\n",
       "      <td>63</td>\n",
       "      <td>80</td>\n",
       "      <td>80</td>\n",
       "      <td>60</td>\n",
       "    </tr>\n",
       "    <tr>\n",
       "      <th>2</th>\n",
       "      <td>Venusaur</td>\n",
       "      <td>1</td>\n",
       "      <td>Grass</td>\n",
       "      <td>2.0</td>\n",
       "      <td>100.0</td>\n",
       "      <td>Green</td>\n",
       "      <td>Ordinary</td>\n",
       "      <td>80.0</td>\n",
       "      <td>82</td>\n",
       "      <td>83</td>\n",
       "      <td>100</td>\n",
       "      <td>100</td>\n",
       "      <td>80</td>\n",
       "    </tr>\n",
       "    <tr>\n",
       "      <th>3</th>\n",
       "      <td>Mega Venusaur</td>\n",
       "      <td>1</td>\n",
       "      <td>Grass</td>\n",
       "      <td>2.4</td>\n",
       "      <td>155.5</td>\n",
       "      <td>Green</td>\n",
       "      <td>Ordinary</td>\n",
       "      <td>80.0</td>\n",
       "      <td>100</td>\n",
       "      <td>123</td>\n",
       "      <td>122</td>\n",
       "      <td>120</td>\n",
       "      <td>80</td>\n",
       "    </tr>\n",
       "    <tr>\n",
       "      <th>4</th>\n",
       "      <td>Charmander</td>\n",
       "      <td>1</td>\n",
       "      <td>Fire</td>\n",
       "      <td>0.6</td>\n",
       "      <td>8.5</td>\n",
       "      <td>Red</td>\n",
       "      <td>Ordinary</td>\n",
       "      <td>39.0</td>\n",
       "      <td>52</td>\n",
       "      <td>43</td>\n",
       "      <td>60</td>\n",
       "      <td>50</td>\n",
       "      <td>65</td>\n",
       "    </tr>\n",
       "    <tr>\n",
       "      <th>5</th>\n",
       "      <td>Charmeleon</td>\n",
       "      <td>1</td>\n",
       "      <td>Fire</td>\n",
       "      <td>1.1</td>\n",
       "      <td>19.0</td>\n",
       "      <td>Red</td>\n",
       "      <td>Ordinary</td>\n",
       "      <td>58.0</td>\n",
       "      <td>64</td>\n",
       "      <td>58</td>\n",
       "      <td>80</td>\n",
       "      <td>65</td>\n",
       "      <td>80</td>\n",
       "    </tr>\n",
       "    <tr>\n",
       "      <th>6</th>\n",
       "      <td>Charizard</td>\n",
       "      <td>1</td>\n",
       "      <td>Fire</td>\n",
       "      <td>1.7</td>\n",
       "      <td>90.5</td>\n",
       "      <td>Red</td>\n",
       "      <td>Ordinary</td>\n",
       "      <td>78.0</td>\n",
       "      <td>84</td>\n",
       "      <td>78</td>\n",
       "      <td>109</td>\n",
       "      <td>85</td>\n",
       "      <td>100</td>\n",
       "    </tr>\n",
       "    <tr>\n",
       "      <th>7</th>\n",
       "      <td>Mega Charizard X</td>\n",
       "      <td>1</td>\n",
       "      <td>Fire</td>\n",
       "      <td>1.7</td>\n",
       "      <td>110.5</td>\n",
       "      <td>Black</td>\n",
       "      <td>Ordinary</td>\n",
       "      <td>78.0</td>\n",
       "      <td>130</td>\n",
       "      <td>111</td>\n",
       "      <td>130</td>\n",
       "      <td>85</td>\n",
       "      <td>100</td>\n",
       "    </tr>\n",
       "    <tr>\n",
       "      <th>8</th>\n",
       "      <td>Mega Charizard Y</td>\n",
       "      <td>1</td>\n",
       "      <td>Fire</td>\n",
       "      <td>1.7</td>\n",
       "      <td>100.5</td>\n",
       "      <td>Red</td>\n",
       "      <td>Ordinary</td>\n",
       "      <td>78.0</td>\n",
       "      <td>104</td>\n",
       "      <td>78</td>\n",
       "      <td>159</td>\n",
       "      <td>115</td>\n",
       "      <td>100</td>\n",
       "    </tr>\n",
       "    <tr>\n",
       "      <th>9</th>\n",
       "      <td>Squirtle</td>\n",
       "      <td>1</td>\n",
       "      <td>Water</td>\n",
       "      <td>0.5</td>\n",
       "      <td>9.0</td>\n",
       "      <td>Blue</td>\n",
       "      <td>Ordinary</td>\n",
       "      <td>44.0</td>\n",
       "      <td>48</td>\n",
       "      <td>65</td>\n",
       "      <td>50</td>\n",
       "      <td>64</td>\n",
       "      <td>43</td>\n",
       "    </tr>\n",
       "  </tbody>\n",
       "</table>\n",
       "</div>"
      ],
      "text/plain": [
       "               Name  Generation  Type1  Height  Weight  Color  Category    HP  \\\n",
       "0         Bulbasaur           1  Grass     0.7     6.9  Green  Ordinary  45.0   \n",
       "1           Ivysaur           1  Grass     1.0    13.0  Green  Ordinary  60.0   \n",
       "2          Venusaur           1  Grass     2.0   100.0  Green  Ordinary  80.0   \n",
       "3     Mega Venusaur           1  Grass     2.4   155.5  Green  Ordinary  80.0   \n",
       "4        Charmander           1   Fire     0.6     8.5    Red  Ordinary  39.0   \n",
       "5        Charmeleon           1   Fire     1.1    19.0    Red  Ordinary  58.0   \n",
       "6         Charizard           1   Fire     1.7    90.5    Red  Ordinary  78.0   \n",
       "7  Mega Charizard X           1   Fire     1.7   110.5  Black  Ordinary  78.0   \n",
       "8  Mega Charizard Y           1   Fire     1.7   100.5    Red  Ordinary  78.0   \n",
       "9          Squirtle           1  Water     0.5     9.0   Blue  Ordinary  44.0   \n",
       "\n",
       "  Attack  Defense  SP_Attack  SP_Defense Speed  \n",
       "0     49       49         65          65    45  \n",
       "1     62       63         80          80    60  \n",
       "2     82       83        100         100    80  \n",
       "3    100      123        122         120    80  \n",
       "4     52       43         60          50    65  \n",
       "5     64       58         80          65    80  \n",
       "6     84       78        109          85   100  \n",
       "7    130      111        130          85   100  \n",
       "8    104       78        159         115   100  \n",
       "9     48       65         50          64    43  "
      ]
     },
     "execution_count": 288,
     "metadata": {},
     "output_type": "execute_result"
    }
   ],
   "source": [
    "# Solución\n",
    "df.info()\n",
    "df.head(10)\n",
    "# Nombre es categorica\n",
    "# Type1 es categorica\n",
    "# Color es categorica\n",
    "# Category es categorica\n",
    "# Speed deberia ser int en vez de object"
   ]
  },
  {
   "cell_type": "markdown",
   "metadata": {},
   "source": [
    "3. Limpieza de los datos. Realice las siguientes tareas sucesivamente.\n",
    "\n",
    "    - Cuántas observaciones faltan por cada variable? \n",
    "    - Las filas en las cuales falte el dato de alguna variable categórica deben ser eliminadas.\n",
    "    - Si faltan datos de una variable numérica estos deben rellenarse con el valor promedio de la variable. \n",
    "    - Las variables Attack y Speed tuvieron problemas al ser ingresadas. Revisar cómo pueden rectificarse levemente para que puedan ser convertidas a numéricas.\n",
    "    - Al final debe quedar cada variable clasificada como categórica o numérica.\n",
    "    - Estudiar para cada  variable numérica cuántos datos outliers existen de acuerdo a la regla  IQR (outliers son observaciones fuera del intervalo [Q1-1.5*(Q3-Q1),Q3+1.5(Q3-Q1)]). Cuántos datos en total tienen un outlier en alguna variable numérica?\n",
    "    - Genere otro set de datos donde se eliminar todas las observaciones que contengan algún outlier en sus variables numéricas. Cuántos quedaron finalmente\n"
   ]
  },
  {
   "cell_type": "code",
   "execution_count": 289,
   "metadata": {},
   "outputs": [
    {
     "data": {
      "text/plain": [
       "0        45.0\n",
       "1        60.0\n",
       "2        80.0\n",
       "3        80.0\n",
       "4        39.0\n",
       "        ...  \n",
       "1198     74.0\n",
       "1199    100.0\n",
       "1200    100.0\n",
       "1201     99.0\n",
       "1202     90.0\n",
       "Name: HP, Length: 1203, dtype: float64"
      ]
     },
     "execution_count": 289,
     "metadata": {},
     "output_type": "execute_result"
    }
   ],
   "source": [
    "# Solución\n",
    "df.isnull().sum()\n",
    "df[\"HP\"].astype(float)  #Cambio la categoria de HP\n",
    "# En category hay 21 que son null y 24 de HP son null\n"
   ]
  },
  {
   "cell_type": "code",
   "execution_count": 290,
   "metadata": {},
   "outputs": [
    {
     "name": "stdout",
     "output_type": "stream",
     "text": [
      "<class 'pandas.core.frame.DataFrame'>\n",
      "Int64Index: 1182 entries, 0 to 1202\n",
      "Data columns (total 13 columns):\n",
      " #   Column      Non-Null Count  Dtype  \n",
      "---  ------      --------------  -----  \n",
      " 0   Name        1182 non-null   object \n",
      " 1   Generation  1182 non-null   int64  \n",
      " 2   Type1       1182 non-null   object \n",
      " 3   Height      1182 non-null   float64\n",
      " 4   Weight      1182 non-null   float64\n",
      " 5   Color       1182 non-null   object \n",
      " 6   Category    1182 non-null   object \n",
      " 7   HP          1159 non-null   float64\n",
      " 8   Attack      1182 non-null   object \n",
      " 9   Defense     1182 non-null   int64  \n",
      " 10  SP_Attack   1182 non-null   int64  \n",
      " 11  SP_Defense  1182 non-null   int64  \n",
      " 12  Speed       1182 non-null   object \n",
      "dtypes: float64(3), int64(4), object(6)\n",
      "memory usage: 129.3+ KB\n"
     ]
    }
   ],
   "source": [
    "df_dropped_null=df.dropna(subset=[\"Category\"]).copy()  #Borro registros\n",
    "df_dropped_null.info()\n"
   ]
  },
  {
   "cell_type": "code",
   "execution_count": 291,
   "metadata": {},
   "outputs": [
    {
     "name": "stdout",
     "output_type": "stream",
     "text": [
      "<class 'pandas.core.frame.DataFrame'>\n",
      "Int64Index: 1182 entries, 0 to 1202\n",
      "Data columns (total 13 columns):\n",
      " #   Column      Non-Null Count  Dtype  \n",
      "---  ------      --------------  -----  \n",
      " 0   Name        1182 non-null   object \n",
      " 1   Generation  1182 non-null   int64  \n",
      " 2   Type1       1182 non-null   object \n",
      " 3   Height      1182 non-null   float64\n",
      " 4   Weight      1182 non-null   float64\n",
      " 5   Color       1182 non-null   object \n",
      " 6   Category    1182 non-null   object \n",
      " 7   HP          1182 non-null   float64\n",
      " 8   Attack      1182 non-null   object \n",
      " 9   Defense     1182 non-null   int64  \n",
      " 10  SP_Attack   1182 non-null   int64  \n",
      " 11  SP_Defense  1182 non-null   int64  \n",
      " 12  Speed       1182 non-null   object \n",
      "dtypes: float64(3), int64(4), object(6)\n",
      "memory usage: 129.3+ KB\n"
     ]
    }
   ],
   "source": [
    "mean_hp=df_dropped_null[\"HP\"].mean()\n",
    "df_dropped_null[\"HP\"].fillna(mean_hp,inplace=True)  #Relleno los valores nulos con el promedio\n",
    "df_dropped_null.info()\n"
   ]
  },
  {
   "cell_type": "code",
   "execution_count": 292,
   "metadata": {},
   "outputs": [
    {
     "data": {
      "text/plain": [
       "1182"
      ]
     },
     "execution_count": 292,
     "metadata": {},
     "output_type": "execute_result"
    }
   ],
   "source": [
    "\n",
    "# df_dropped_null[\"Attack\"].astype(float)\n",
    "# df_dropped_null[\"Speed\"].astype(float)\n",
    "sum(df_dropped_null.Attack.apply(lambda x: isinstance(x,str)))"
   ]
  },
  {
   "cell_type": "code",
   "execution_count": 293,
   "metadata": {},
   "outputs": [
    {
     "name": "stdout",
     "output_type": "stream",
     "text": [
      "<class 'pandas.core.frame.DataFrame'>\n",
      "Int64Index: 1182 entries, 0 to 1202\n",
      "Data columns (total 13 columns):\n",
      " #   Column      Non-Null Count  Dtype  \n",
      "---  ------      --------------  -----  \n",
      " 0   Name        1182 non-null   object \n",
      " 1   Generation  1182 non-null   int64  \n",
      " 2   Type1       1182 non-null   object \n",
      " 3   Height      1182 non-null   float64\n",
      " 4   Weight      1182 non-null   float64\n",
      " 5   Color       1182 non-null   object \n",
      " 6   Category    1182 non-null   object \n",
      " 7   HP          1182 non-null   float64\n",
      " 8   Attack      1182 non-null   float64\n",
      " 9   Defense     1182 non-null   int64  \n",
      " 10  SP_Attack   1182 non-null   int64  \n",
      " 11  SP_Defense  1182 non-null   int64  \n",
      " 12  Speed       1182 non-null   float64\n",
      "dtypes: float64(5), int64(4), object(4)\n",
      "memory usage: 129.3+ KB\n"
     ]
    }
   ],
   "source": [
    "def noesconvertible_a_float(x):\n",
    "    try:\n",
    "        y=float(x)\n",
    "        return False\n",
    "    except ValueError:\n",
    "        return True\n",
    "df_dropped_null.loc[df_dropped_null.Attack.apply(noesconvertible_a_float),\"Attack\"]\n",
    "def convierte_a_float(x):\n",
    "    if x.find(\"j\") !=-1:\n",
    "        x=x.replace(\"j\",\"\")\n",
    "    return float(x)\n",
    "df_dropped_null[\"Attack\"]=df_dropped_null[\"Attack\"].apply(convierte_a_float)\n",
    "df_dropped_null[\"Speed\"]=df_dropped_null[\"Speed\"].apply(convierte_a_float)\n",
    "df_dropped_null[\"Attack\"].astype(float)\n",
    "df_dropped_null[\"Speed\"].astype(float)\n",
    "df_dropped_null.info()"
   ]
  },
  {
   "cell_type": "code",
   "execution_count": 297,
   "metadata": {},
   "outputs": [
    {
     "name": "stdout",
     "output_type": "stream",
     "text": [
      "Columna Generation \n",
      "(-3.0 , 13.0)\n",
      "Columna Height \n",
      "(-0.9 , 3.1)\n",
      "Columna Weight \n",
      "(-87.31250000000001 , 168.78750000000002)\n",
      "Columna HP \n",
      "(7.875 , 130.875)\n",
      "Columna Attack \n",
      "(-10.0 , 166.0)\n",
      "Columna Defense \n",
      "(-7.5 , 148.5)\n",
      "Columna SP_Attack \n",
      "(-17.5 , 162.5)\n",
      "Columna SP_Defense \n",
      "(-10.0 , 150.0)\n",
      "Columna Speed \n",
      "(-24.0 , 160.0)\n",
      "Generation : 0\n",
      "Height : 56\n",
      "Weight : 125\n",
      "HP : 25\n",
      "Attack : 9\n",
      "Defense : 23\n",
      "SP_Attack : 13\n",
      "SP_Defense : 7\n",
      "Speed : 2\n"
     ]
    }
   ],
   "source": [
    "# [Q1-1.5*(Q3-Q1),Q3+1.5(Q3-Q1)])\n",
    "quarts = []\n",
    "\n",
    "for column in df_dropped_null:\n",
    "    if pd.api.types.is_numeric_dtype(df_dropped_null[column]):  # Verifica si la columna es numérica\n",
    "        quarts.append({\n",
    "            column: [df_dropped_null[column].quantile(0.25),\n",
    "                     df_dropped_null[column].quantile(0.5),\n",
    "                     df_dropped_null[column].quantile(0.75)]\n",
    "        })\n",
    "\n",
    "\n",
    "quarts\n",
    "outlines=[]\n",
    "for quart in quarts:\n",
    "    for column, values in quart.items():\n",
    "        Q1 = values[0]\n",
    "        Q3 = values[2]\n",
    "        IQR = Q3 - Q1  # Rango intercuartílico\n",
    "        lower_bound = Q1 - 1.5 * IQR  # Límite inferior\n",
    "        upper_bound = Q3 + 1.5 * IQR  # Límite superior\n",
    "        outlines.append({\n",
    "            column: (lower_bound, upper_bound)\n",
    "        })\n",
    "outliers=[]\n",
    "for outline in outlines:\n",
    "    for column, values in outline.items():\n",
    "        print(f\"Columna {column} \\n({values[0]} , {values[1]})\")\n",
    "for limit in outlines:\n",
    "    for column, (lower_bound, upper_bound) in limit.items():\n",
    "        outlier_values = df_dropped_null[column].loc[(df_dropped_null[column] < lower_bound) | (df_dropped_null[column] > upper_bound)]\n",
    "        outliers.append({\n",
    "            column: outlier_values\n",
    "        })\n",
    "for outlier_dict in outliers:\n",
    "    for column, values in outlier_dict.items():\n",
    "        print(f\"{column} : {len(values)}\")  # len(values) para contar el número de outliers\n",
    "\n"
   ]
  },
  {
   "cell_type": "markdown",
   "metadata": {},
   "source": [
    "4. Genere un grafico de tortas que muestre el porcentaje del total de datos\n",
    "que pertenece a cada clase de la variable `Category` y la cantidad de datos por clase.\n"
   ]
  },
  {
   "cell_type": "code",
   "execution_count": 261,
   "metadata": {},
   "outputs": [],
   "source": [
    "# Solución\n",
    "import matplotlib"
   ]
  },
  {
   "cell_type": "markdown",
   "metadata": {},
   "source": [
    "5. Reemplazar la columna `Category` por valores numéricos \n"
   ]
  },
  {
   "cell_type": "code",
   "execution_count": 262,
   "metadata": {},
   "outputs": [],
   "source": [
    "# Solución\n"
   ]
  },
  {
   "cell_type": "markdown",
   "metadata": {},
   "source": [
    "6. Encuentre dos variables numéricas que no sean linealmente separable y grafíquelas. "
   ]
  },
  {
   "cell_type": "code",
   "execution_count": 263,
   "metadata": {},
   "outputs": [],
   "source": [
    "# Solución\n"
   ]
  },
  {
   "cell_type": "markdown",
   "metadata": {},
   "source": [
    "7. Genere una matriz `X` que contenga todas las variables numéricas, que utilizaremos para clasificar. Por otra parte en el vector `y` considere la variable objetivo  `Category`."
   ]
  },
  {
   "cell_type": "code",
   "execution_count": 264,
   "metadata": {},
   "outputs": [],
   "source": [
    "# Solución\n"
   ]
  },
  {
   "cell_type": "markdown",
   "metadata": {},
   "source": [
    "8. Crear un conjunto de entrenamiento utilizando el 70% de los datos y dejar el restante 30% para el conjunto de testeo."
   ]
  },
  {
   "cell_type": "code",
   "execution_count": 265,
   "metadata": {},
   "outputs": [],
   "source": [
    "# Solución\n"
   ]
  },
  {
   "cell_type": "markdown",
   "metadata": {},
   "source": [
    "9. Escalar las características de `X` utilizando StandardScaler"
   ]
  },
  {
   "cell_type": "code",
   "execution_count": 266,
   "metadata": {},
   "outputs": [],
   "source": [
    "# Solución\n"
   ]
  },
  {
   "cell_type": "markdown",
   "metadata": {},
   "source": [
    "10. Utilizar el conjunto de entrenamiento para entrenar los siguientes tres modelos de clasificacion:\n",
    "- SVM\n",
    "- Random Forest\n",
    "- KNN\n",
    "Pruebe con varios hyperparámetros para cada modelo."
   ]
  },
  {
   "cell_type": "code",
   "execution_count": 267,
   "metadata": {},
   "outputs": [],
   "source": [
    "# Solución\n"
   ]
  },
  {
   "cell_type": "markdown",
   "metadata": {},
   "source": [
    "11. Prediga sobre el conjunto de testeo con los 3 modelos entrenados."
   ]
  },
  {
   "cell_type": "code",
   "execution_count": 268,
   "metadata": {},
   "outputs": [],
   "source": [
    "# Solución\n"
   ]
  },
  {
   "cell_type": "markdown",
   "metadata": {},
   "source": [
    "12. Evalúa el rendimiento de los tres modelos usando accuracy como métrica. Indique explique que magnitud refleja esta metrica"
   ]
  },
  {
   "cell_type": "code",
   "execution_count": 269,
   "metadata": {},
   "outputs": [],
   "source": [
    "# Solución\n"
   ]
  },
  {
   "cell_type": "markdown",
   "metadata": {},
   "source": [
    "13. Escoja el mejor modelo y en genere dos gráficos de torta indicando las proporciones de clases. Un gráfico basado en las clases predichas por el modelo  sobre el conjunto de testeo y otro con las clases reales del test."
   ]
  },
  {
   "cell_type": "code",
   "execution_count": 270,
   "metadata": {},
   "outputs": [],
   "source": [
    "# Solución\n"
   ]
  },
  {
   "cell_type": "markdown",
   "metadata": {},
   "source": [
    "14. Cómo cambian los resultados si se utilizan los datos que contienen aún los outliers?"
   ]
  }
 ],
 "metadata": {
  "kernelspec": {
   "display_name": "IMA543_2024_2",
   "language": "python",
   "name": "python3"
  },
  "language_info": {
   "codemirror_mode": {
    "name": "ipython",
    "version": 3
   },
   "file_extension": ".py",
   "mimetype": "text/x-python",
   "name": "python",
   "nbconvert_exporter": "python",
   "pygments_lexer": "ipython3",
   "version": "3.9.0"
  }
 },
 "nbformat": 4,
 "nbformat_minor": 2
}
