{
 "cells": [
  {
   "cell_type": "markdown",
   "metadata": {},
   "source": [
    "<h3><center>Clase ejercicios - IMA539.</center></h3>\n",
    "<center>Camilo Calfucoy, Jorge Ruíz</center>\n",
    "<center>Departamento de Ingeniería Matemática</center>\n",
    "<center>Octubre 14, 2024.</center>\n"
   ]
  },
  {
   "cell_type": "markdown",
   "metadata": {},
   "source": [
    "## Ejercicios\n"
   ]
  },
  {
   "cell_type": "markdown",
   "metadata": {},
   "source": [
    "1. Leer el archivo `data_3.arff` como un dataframe de Pandas, este archivo tiene la ultima columna (`Class`) en tipo bytes, cambiar a categoricas (Hints: Importar desde `scipy.io` el objeto `arff` y utilizarlo para leer los datos. Decodificar los objetos tipo bytes con la función `.decode('utf-8')`)\n",
    "2. Genere el conjunto ($X$,$y$) en la que $y$ es la última columna del dataframe que define las clases, y $X$ esté conformado por el resto de columnas\n",
    "3. Separe los datos de trabajo en 70% para entrenamiento y 30% para testeo resguardando las proporciones entre las clases.\n",
    "4. Escale los datos de entrenamiento y testeo utilizando `StandardScalar`.\n",
    "5. Utilizando LDA genere una versión reducida $X_5$ de los datos de entrenamiento que tenga solo 5 columnas.\n",
    "6. Instancie un modelo clasificador KNN y entrene el modelo instanciado con los datos de entrenamiento $X_5$\n",
    "7. Utilice el modelo entrenado para predecir por separado sobre los datos de entrenamiento y los de testeo.\n",
    "8. Muestre las matrices de confusion tanto para el conjunto de entrenamiento como para el conjunto de testeo.\n",
    "9. Calcular varias metricas de rendimiento del modelo respecto a los conjuntos conjunto de entrenamiento y testeo.\n",
    "10. Realice una busqueda aleatoria de hiperparametros para una pipeline que utilice un escalamento MinMax, una reducción de dimensión con PCA (igualmente a dimensión 5) y con un modelo SVC de sklearn. La búsqueda de hiperparámetros debe realizarse sobre el conjunto de entrenamiento.\n",
    "11. Calcular la  matriz de confusión y las métricas de Exactitud, MCC y Coeficiente Kappa de la prediccion del conjunto de testeo del modelo con los mejores hiperparametros encontrados."
   ]
  },
  {
   "cell_type": "markdown",
   "metadata": {},
   "source": [
    "## Soluciones"
   ]
  },
  {
   "cell_type": "markdown",
   "metadata": {},
   "source": [
    "1. Leer el archivo `data_3.arff` como un dataframe de Pandas, este archivo tiene la última columna (`Class`) en tipo bytes, cambiar a categoricas (Hints: Importar desde `scipy.io` el objeto `arff` y utilizarlo para leer los datos. Decodificar los objetos tipo bytes con la función `.decode('utf-8')`)"
   ]
  },
  {
   "cell_type": "code",
   "execution_count": null,
   "metadata": {},
   "outputs": [],
   "source": []
  },
  {
   "cell_type": "markdown",
   "metadata": {},
   "source": [
    "2. Genere el conjunto ($X$,$y$) en la que $y$ es la ultima columna del dataframe que define las clases, y $X$ esté conformado por el resto de columnas"
   ]
  },
  {
   "cell_type": "code",
   "execution_count": 8,
   "metadata": {},
   "outputs": [],
   "source": []
  },
  {
   "cell_type": "markdown",
   "metadata": {},
   "source": [
    "3. Separe los datos de trabajo en 70% para entrenamiento y 30% para testeo resguardando las proporciones entre las clases."
   ]
  },
  {
   "cell_type": "code",
   "execution_count": 9,
   "metadata": {},
   "outputs": [],
   "source": []
  },
  {
   "cell_type": "markdown",
   "metadata": {},
   "source": [
    "4. Escale los datos de entrenamiento y testeo utilizando `StandardScalar`."
   ]
  },
  {
   "cell_type": "code",
   "execution_count": 10,
   "metadata": {},
   "outputs": [],
   "source": []
  },
  {
   "cell_type": "markdown",
   "metadata": {},
   "source": [
    "5. Utilizando LDA genere una versión reducida $X_5$ de los datos de entrenamiento que tenga solo 5 columnas."
   ]
  },
  {
   "cell_type": "code",
   "execution_count": 12,
   "metadata": {},
   "outputs": [],
   "source": []
  },
  {
   "cell_type": "markdown",
   "metadata": {},
   "source": [
    "6. Instancie un modelo clasificador KNN y entrene el modelo instanciado con los datos de entrenamiento $X_5$"
   ]
  },
  {
   "cell_type": "code",
   "execution_count": null,
   "metadata": {},
   "outputs": [],
   "source": []
  },
  {
   "cell_type": "markdown",
   "metadata": {},
   "source": [
    "7. Utilice el modelo entrenado para predecir por separado sobre los datos de entrenamiento y los de testeo."
   ]
  },
  {
   "cell_type": "code",
   "execution_count": 14,
   "metadata": {},
   "outputs": [],
   "source": []
  },
  {
   "cell_type": "markdown",
   "metadata": {},
   "source": [
    "8. Muestre las matrices de confusion tanto para el conjunto de entrenamiento como para el conjunto de testeo."
   ]
  },
  {
   "cell_type": "code",
   "execution_count": null,
   "metadata": {},
   "outputs": [],
   "source": []
  },
  {
   "cell_type": "markdown",
   "metadata": {},
   "source": [
    "9. Calcular varias metricas de rendimiento del modelo respecto a los conjuntos conjunto de entrenamiento y testeo."
   ]
  },
  {
   "cell_type": "code",
   "execution_count": null,
   "metadata": {},
   "outputs": [],
   "source": []
  },
  {
   "cell_type": "markdown",
   "metadata": {},
   "source": [
    "10. Realice una busqueda aleatoria de hiperparametros para una pipeline que utilice un escalamento MinMax, una reducción de dimensión con PCA (igualmente a dimensión 5) y con un modelo SVC de sklearn. La búsqueda de hiperparámetros debe realizarse sobre el conjunto de entrenamiento.\n"
   ]
  },
  {
   "cell_type": "code",
   "execution_count": null,
   "metadata": {},
   "outputs": [],
   "source": []
  },
  {
   "cell_type": "markdown",
   "metadata": {},
   "source": [
    "11. Calcular la matriz de confusion y las metricas de Exactitud, MCC y Coeficiente Kappa de la prediccion del conjunto de testeo del modelo con los mejores hiperparametros encontrados."
   ]
  },
  {
   "cell_type": "code",
   "execution_count": null,
   "metadata": {},
   "outputs": [],
   "source": []
  }
 ],
 "metadata": {
  "kernelspec": {
   "display_name": "IMA539_2024_2",
   "language": "python",
   "name": "python3"
  },
  "language_info": {
   "codemirror_mode": {
    "name": "ipython",
    "version": 3
   },
   "file_extension": ".py",
   "mimetype": "text/x-python",
   "name": "python",
   "nbconvert_exporter": "python",
   "pygments_lexer": "ipython3",
   "version": "3.9.0"
  }
 },
 "nbformat": 4,
 "nbformat_minor": 2
}
