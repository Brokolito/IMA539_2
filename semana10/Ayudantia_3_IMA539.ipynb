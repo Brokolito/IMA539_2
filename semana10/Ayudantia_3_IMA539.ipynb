{
 "cells": [
  {
   "cell_type": "markdown",
   "metadata": {},
   "source": [
    "<h3><center>Clase ejercicios - IMA539.</center></h3>\n",
    "<center>Camilo Calfucoy, Jorge Ruíz</center>\n",
    "<center>Departamento de Ingeniería Matemática</center>\n",
    "<center>Octubre 14, 2024.</center>\n"
   ]
  },
  {
   "cell_type": "markdown",
   "metadata": {},
   "source": [
    "## Ejercicios\n"
   ]
  },
  {
   "cell_type": "markdown",
   "metadata": {},
   "source": [
    "1. Leer el archivo `data_3.arff` como un dataframe de Pandas, este archivo tiene la ultima columna (`Class`) en tipo bytes, cambiar a categoricas (Hints: Importar desde `scipy.io` el objeto `arff` y utilizarlo para leer los datos. Decodificar los objetos tipo bytes con la función `.decode('utf-8')`)\n",
    "2. Genere el conjunto ($X$,$y$) en la que $y$ es la última columna del dataframe que define las clases, y $X$ esté conformado por el resto de columnas\n",
    "3. Separe los datos de trabajo en 70% para entrenamiento y 30% para testeo resguardando las proporciones entre las clases.\n",
    "4. Escale los datos de entrenamiento y testeo utilizando `StandardScalar`.\n",
    "5. Utilizando LDA genere una versión reducida $X_5$ de los datos de entrenamiento que tenga solo 5 columnas.\n",
    "6. Instancie un modelo clasificador KNN y entrene el modelo instanciado con los datos de entrenamiento $X_5$\n",
    "7. Utilice el modelo entrenado para predecir por separado sobre los datos de entrenamiento y los de testeo.\n",
    "8. Muestre las matrices de confusion tanto para el conjunto de entrenamiento como para el conjunto de testeo.\n",
    "9. Calcular varias metricas de rendimiento del modelo respecto a los conjuntos conjunto de entrenamiento y testeo.\n",
    "10. Realice una busqueda aleatoria de hiperparametros para una pipeline que utilice un escalamento MinMax, una reducción de dimensión con PCA (igualmente a dimensión 5) y con un modelo SVC de sklearn. La búsqueda de hiperparámetros debe realizarse sobre el conjunto de entrenamiento.\n",
    "11. Calcular la  matriz de confusión y las métricas de Exactitud, MCC y Coeficiente Kappa de la prediccion del conjunto de testeo del modelo con los mejores hiperparametros encontrados."
   ]
  },
  {
   "cell_type": "markdown",
   "metadata": {},
   "source": [
    "## Soluciones"
   ]
  },
  {
   "cell_type": "markdown",
   "metadata": {},
   "source": [
    "1. Leer el archivo `data_3.arff` como un dataframe de Pandas, este archivo tiene la última columna (`Class`) en tipo bytes, cambiar a categoricas (Hints: Importar desde `scipy.io` el objeto `arff` y utilizarlo para leer los datos. Decodificar los objetos tipo bytes con la función `.decode('utf-8')`)"
   ]
  },
  {
   "cell_type": "code",
   "execution_count": 96,
   "metadata": {},
   "outputs": [],
   "source": [
    "import pandas as pd\n",
    "from scipy.io import arff\n",
    "\n",
    "data= arff.loadarff('data_3.arff')\n",
    "df = pd.DataFrame(data[0])\n",
    "df['Class'] = df['Class'].apply(lambda x: x.decode('utf-8')).astype('category')\n"
   ]
  },
  {
   "cell_type": "markdown",
   "metadata": {},
   "source": [
    "2. Genere el conjunto ($X$,$y$) en la que $y$ es la ultima columna del dataframe que define las clases, y $X$ esté conformado por el resto de columnas"
   ]
  },
  {
   "cell_type": "code",
   "execution_count": 97,
   "metadata": {},
   "outputs": [
    {
     "name": "stdout",
     "output_type": "stream",
     "text": [
      "<class 'pandas.core.frame.DataFrame'>\n",
      "RangeIndex: 13910 entries, 0 to 13909\n",
      "Columns: 129 entries, V1 to Class\n",
      "dtypes: category(1), float64(128)\n",
      "memory usage: 13.6 MB\n",
      "<class 'pandas.core.series.Series'>\n",
      "RangeIndex: 13910 entries, 0 to 13909\n",
      "Series name: Class\n",
      "Non-Null Count  Dtype   \n",
      "--------------  -----   \n",
      "13910 non-null  category\n",
      "dtypes: category(1)\n",
      "memory usage: 13.9 KB\n"
     ]
    }
   ],
   "source": [
    "df.info()\n",
    "X=df.iloc[:,:-1].copy()\n",
    "y = df['Class'].copy()\n",
    "y.info()"
   ]
  },
  {
   "cell_type": "markdown",
   "metadata": {},
   "source": [
    "3. Separe los datos de trabajo en 70% para entrenamiento y 30% para testeo resguardando las proporciones entre las clases."
   ]
  },
  {
   "cell_type": "code",
   "execution_count": 98,
   "metadata": {},
   "outputs": [],
   "source": [
    "from sklearn.model_selection import train_test_split\n",
    "\n",
    "X_train, X_test, y_train, y_test = train_test_split(X, y,test_size=0.30,stratify=y,random_state=1)\n"
   ]
  },
  {
   "cell_type": "markdown",
   "metadata": {},
   "source": [
    "4. Escale los datos de entrenamiento y testeo utilizando `StandardScalar`."
   ]
  },
  {
   "cell_type": "code",
   "execution_count": 99,
   "metadata": {},
   "outputs": [],
   "source": [
    "from sklearn.preprocessing import StandardScaler\n",
    "stdsc=StandardScaler()\n",
    "X_train_std = stdsc.fit_transform(X_train)\n",
    "X_test_std = stdsc.transform(X_test)"
   ]
  },
  {
   "cell_type": "markdown",
   "metadata": {},
   "source": [
    "5. Utilizando LDA genere una versión reducida $X_5$ de los datos de entrenamiento que tenga solo 5 columnas."
   ]
  },
  {
   "cell_type": "code",
   "execution_count": 100,
   "metadata": {},
   "outputs": [
    {
     "name": "stdout",
     "output_type": "stream",
     "text": [
      "Dimensiones de X_5: (9737, 5)\n"
     ]
    }
   ],
   "source": [
    "from sklearn.discriminant_analysis import LinearDiscriminantAnalysis as LDA\n",
    "\n",
    "# Inicializamos LDA con 5 componentes\n",
    "lda = LDA(n_components=5)\n",
    "\n",
    "# Ajustamos y transformamos los datos para reducir a 5 dimensiones\n",
    "X_5 = lda.fit_transform(X_train_std, y_train)\n",
    "\n",
    "# Verificamos la nueva forma de X_5\n",
    "print(\"Dimensiones de X_5:\", X_5.shape)"
   ]
  },
  {
   "cell_type": "markdown",
   "metadata": {},
   "source": [
    "6. Instancie un modelo clasificador KNN y entrene el modelo instanciado con los datos de entrenamiento $X_5$"
   ]
  },
  {
   "cell_type": "code",
   "execution_count": 101,
   "metadata": {},
   "outputs": [
    {
     "data": {
      "text/plain": [
       "KNeighborsClassifier()"
      ]
     },
     "execution_count": 101,
     "metadata": {},
     "output_type": "execute_result"
    }
   ],
   "source": [
    "from sklearn.neighbors import KNeighborsClassifier\n",
    "\n",
    "# Instanciar el modelo KNN con un número de vecinos (k) que se desee, por ejemplo k=5\n",
    "knn = KNeighborsClassifier(n_neighbors=5)\n",
    "\n",
    "# Entrenar el modelo con los datos de entrenamiento reducidos X_5 y las etiquetas y\n",
    "knn.fit(X_5, y_train)\n"
   ]
  },
  {
   "cell_type": "markdown",
   "metadata": {},
   "source": [
    "7. Utilice el modelo entrenado para predecir por separado sobre los datos de entrenamiento y los de testeo."
   ]
  },
  {
   "cell_type": "code",
   "execution_count": 102,
   "metadata": {},
   "outputs": [
    {
     "name": "stdout",
     "output_type": "stream",
     "text": [
      "Predicciones sobre los datos de entrenamiento: ['5' '2' '4' ... '4' '3' '2']\n",
      "Predicciones sobre los datos de testeo: ['1' '6' '5' ... '5' '1' '1']\n",
      "Precisión en los datos de entrenamiento: 0.9899352983465133\n",
      "Precisión en los datos de testeo: 0.9849029475197699\n"
     ]
    }
   ],
   "source": [
    "# Predicciones sobre los datos de entrenamiento\n",
    "\n",
    "y_pred_train = knn.predict(X_5)\n",
    "\n",
    "# Si tienes el conjunto de testeo ya definido como X_test y lo has reducido a 5 dimensiones usando LDA\n",
    "# Aplicamos la transformación LDA al conjunto de testeo\n",
    "X_test_5 = lda.transform(X_test_std)\n",
    "\n",
    "# Predicciones sobre los datos de testeo\n",
    "y_pred_test = knn.predict(X_test_5)\n",
    "\n",
    "# Verificamos las predicciones\n",
    "print(\"Predicciones sobre los datos de entrenamiento:\", y_pred_train)\n",
    "print(\"Predicciones sobre los datos de testeo:\", y_pred_test)\n",
    "train_score = knn.score(X_5, y_train)\n",
    "\n",
    "# Si tienes los datos de testeo con etiquetas verdaderas\n",
    "test_score = knn.score(X_test_5, y_test)\n",
    "\n",
    "# Mostrar los resultados\n",
    "print(f\"Precisión en los datos de entrenamiento: {train_score}\")\n",
    "print(f\"Precisión en los datos de testeo: {test_score}\")"
   ]
  },
  {
   "cell_type": "markdown",
   "metadata": {},
   "source": [
    "8. Muestre las matrices de confusion tanto para el conjunto de entrenamiento como para el conjunto de testeo."
   ]
  },
  {
   "cell_type": "code",
   "execution_count": 103,
   "metadata": {},
   "outputs": [
    {
     "name": "stdout",
     "output_type": "stream",
     "text": [
      "Matriz de confusión - Entrenamiento:\n",
      "[[1790    1    0    4    0    1]\n",
      " [   2 2036    4    1    4    1]\n",
      " [   0    5 1132    0   11    1]\n",
      " [   1    0    0 1333    3   18]\n",
      " [   6    1    7    4 2086    2]\n",
      " [   0    1    0   19    1 1262]]\n",
      "Matriz de confusión - Testeo:\n",
      "[[760   2   0   6   1   0]\n",
      " [  2 869   6   0   0   1]\n",
      " [  0   2 482   0   8   0]\n",
      " [  0   1   0 570   2   8]\n",
      " [  0   1   2   5 891   4]\n",
      " [  1   0   0  10   1 538]]\n"
     ]
    },
    {
     "data": {
      "image/png": "[encoded data removed]",
      "text/plain": [
       "<Figure size 1200x500 with 4 Axes>"
      ]
     },
     "metadata": {},
     "output_type": "display_data"
    }
   ],
   "source": [
    "from sklearn.metrics import confusion_matrix\n",
    "import seaborn as sns\n",
    "import matplotlib.pyplot as plt\n",
    "\n",
    "# Predicciones sobre los datos de entrenamiento\n",
    "y_pred_train = knn.predict(X_5)\n",
    "\n",
    "# Predicciones sobre los datos de testeo\n",
    "y_pred_test = knn.predict(X_test_5)\n",
    "\n",
    "# Matriz de confusión para el conjunto de entrenamiento\n",
    "conf_matrix_train = confusion_matrix(y_train, y_pred_train)\n",
    "\n",
    "# Matriz de confusión para el conjunto de testeo\n",
    "conf_matrix_test = confusion_matrix(y_test, y_pred_test)\n",
    "\n",
    "# Mostrar las matrices de confusión\n",
    "print(\"Matriz de confusión - Entrenamiento:\")\n",
    "print(conf_matrix_train)\n",
    "\n",
    "print(\"Matriz de confusión - Testeo:\")\n",
    "print(conf_matrix_test)\n",
    "\n",
    "# Visualizar las matrices de confusión usando un mapa de calor\n",
    "fig, ax = plt.subplots(1, 2, figsize=(12, 5))\n",
    "\n",
    "sns.heatmap(conf_matrix_train, annot=True, fmt='d', cmap='Blues', ax=ax[0])\n",
    "ax[0].set_title('Matriz de Confusión - Entrenamiento')\n",
    "ax[0].set_xlabel('Predicción')\n",
    "ax[0].set_ylabel('Real')\n",
    "\n",
    "sns.heatmap(conf_matrix_test, annot=True, fmt='d', cmap='Blues', ax=ax[1])\n",
    "ax[1].set_title('Matriz de Confusión - Testeo')\n",
    "ax[1].set_xlabel('Predicción')\n",
    "ax[1].set_ylabel('Real')\n",
    "\n",
    "plt.tight_layout()\n",
    "plt.show()\n"
   ]
  },
  {
   "cell_type": "markdown",
   "metadata": {},
   "source": [
    "9. Calcular varias metricas de rendimiento del modelo respecto a los conjuntos conjunto de entrenamiento y testeo."
   ]
  },
  {
   "cell_type": "code",
   "execution_count": 105,
   "metadata": {},
   "outputs": [
    {
     "name": "stdout",
     "output_type": "stream",
     "text": [
      "Métricas de rendimiento - Conjunto de entrenamiento:\n",
      "Precisión (Accuracy): 0.9899\n",
      "Precisión (Precision): 0.9899\n",
      "Exhaustividad (Recall): 0.9899\n",
      "F1-Score: 0.9899\n",
      "\n",
      "Reporte de clasificación - Entrenamiento:\n",
      "              precision    recall  f1-score   support\n",
      "\n",
      "           1       0.99      1.00      1.00      1796\n",
      "           2       1.00      0.99      1.00      2048\n",
      "           3       0.99      0.99      0.99      1149\n",
      "           4       0.98      0.98      0.98      1355\n",
      "           5       0.99      0.99      0.99      2106\n",
      "           6       0.98      0.98      0.98      1283\n",
      "\n",
      "    accuracy                           0.99      9737\n",
      "   macro avg       0.99      0.99      0.99      9737\n",
      "weighted avg       0.99      0.99      0.99      9737\n",
      "\n",
      "\n",
      "Métricas de rendimiento - Conjunto de testeo:\n",
      "Precisión (Accuracy): 0.9849\n",
      "Precisión (Precision): 0.9850\n",
      "Exhaustividad (Recall): 0.9849\n",
      "F1-Score: 0.9849\n",
      "\n",
      "Reporte de clasificación - Testeo:\n",
      "              precision    recall  f1-score   support\n",
      "\n",
      "           1       1.00      0.99      0.99       769\n",
      "           2       0.99      0.99      0.99       878\n",
      "           3       0.98      0.98      0.98       492\n",
      "           4       0.96      0.98      0.97       581\n",
      "           5       0.99      0.99      0.99       903\n",
      "           6       0.98      0.98      0.98       550\n",
      "\n",
      "    accuracy                           0.98      4173\n",
      "   macro avg       0.98      0.98      0.98      4173\n",
      "weighted avg       0.98      0.98      0.98      4173\n",
      "\n"
     ]
    }
   ],
   "source": [
    "from sklearn.metrics import accuracy_score, precision_score, recall_score, f1_score, classification_report\n",
    "\n",
    "# Predicciones sobre los datos de entrenamiento\n",
    "y_pred_train = knn.predict(X_5)\n",
    "\n",
    "# Predicciones sobre los datos de testeo\n",
    "y_pred_test = knn.predict(X_test_5)\n",
    "\n",
    "# 1. Calcular métricas para el conjunto de entrenamiento\n",
    "accuracy_train = accuracy_score(y_train, y_pred_train)\n",
    "precision_train = precision_score(y_train, y_pred_train, average='weighted')\n",
    "recall_train = recall_score(y_train, y_pred_train, average='weighted')\n",
    "f1_train = f1_score(y_train, y_pred_train, average='weighted')\n",
    "\n",
    "# Mostrar métricas para entrenamiento\n",
    "print(\"Métricas de rendimiento - Conjunto de entrenamiento:\")\n",
    "print(f\"Precisión (Accuracy): {accuracy_train:.4f}\")\n",
    "print(f\"Precisión (Precision): {precision_train:.4f}\")\n",
    "print(f\"Exhaustividad (Recall): {recall_train:.4f}\")\n",
    "print(f\"F1-Score: {f1_train:.4f}\")\n",
    "print(\"\\nReporte de clasificación - Entrenamiento:\")\n",
    "print(classification_report(y_train, y_pred_train))\n",
    "\n",
    "# 2. Calcular métricas para el conjunto de testeo\n",
    "accuracy_test = accuracy_score(y_test, y_pred_test)\n",
    "precision_test = precision_score(y_test, y_pred_test, average='weighted')\n",
    "recall_test = recall_score(y_test, y_pred_test, average='weighted')\n",
    "f1_test = f1_score(y_test, y_pred_test, average='weighted')\n",
    "\n",
    "# Mostrar métricas para testeo\n",
    "print(\"\\nMétricas de rendimiento - Conjunto de testeo:\")\n",
    "print(f\"Precisión (Accuracy): {accuracy_test:.4f}\")\n",
    "print(f\"Precisión (Precision): {precision_test:.4f}\")\n",
    "print(f\"Exhaustividad (Recall): {recall_test:.4f}\")\n",
    "print(f\"F1-Score: {f1_test:.4f}\")\n",
    "print(\"\\nReporte de clasificación - Testeo:\")\n",
    "print(classification_report(y_test, y_pred_test))\n"
   ]
  },
  {
   "cell_type": "markdown",
   "metadata": {},
   "source": [
    "10. Realice una busqueda aleatoria de hiperparametros para una pipeline que utilice un escalamento MinMax, una reducción de dimensión con PCA (igualmente a dimensión 5) y con un modelo SVC de sklearn. La búsqueda de hiperparámetros debe realizarse sobre el conjunto de entrenamiento.\n"
   ]
  },
  {
   "cell_type": "code",
   "execution_count": 106,
   "metadata": {},
   "outputs": [
    {
     "name": "stdout",
     "output_type": "stream",
     "text": [
      "Mejores hiperparámetros encontrados:\n",
      "{'svc__kernel': 'rbf', 'svc__gamma': 10.0, 'svc__C': 1.0}\n",
      "Mejor score (accuracy): 0.9427\n"
     ]
    }
   ],
   "source": [
    "from sklearn.pipeline import Pipeline\n",
    "from sklearn.preprocessing import MinMaxScaler\n",
    "from sklearn.decomposition import PCA\n",
    "from sklearn.svm import SVC\n",
    "from sklearn.model_selection import RandomizedSearchCV\n",
    "import numpy as np\n",
    "\n",
    "# Crear la pipeline\n",
    "pipeline = Pipeline([\n",
    "    ('scaler', MinMaxScaler()),    \n",
    "    ('pca', PCA(n_components=5)),  \n",
    "    ('svc', SVC())                  \n",
    "])\n",
    "\n",
    "# Definir el espacio de búsqueda de hiperparámetros\n",
    "param_distributions = {\n",
    "    'svc__C': np.logspace(-3, 3, 7),               \n",
    "    'svc__gamma': ['scale', 'auto'] + list(np.logspace(-3, 3, 7)),  \n",
    "    'svc__kernel': ['linear', 'rbf'],                 \n",
    "}\n",
    "\n",
    "# Instanciar RandomizedSearchCV\n",
    "random_search = RandomizedSearchCV(\n",
    "    pipeline, \n",
    "    param_distributions,\n",
    "    n_iter=10,                               # Reducir el número de iteraciones para acelerar la búsqueda\n",
    "    scoring='accuracy',                      \n",
    "    cv=3,                                    # Menos pliegues para acelerar la validación cruzada\n",
    "    random_state=42,                         \n",
    "    n_jobs=-1                                 \n",
    ")\n",
    "\n",
    "# Ajustar RandomizedSearchCV al conjunto de entrenamiento\n",
    "random_search.fit(X_train, y_train)\n",
    "\n",
    "# Mostrar los mejores hiperparámetros encontrados\n",
    "print(\"Mejores hiperparámetros encontrados:\")\n",
    "print(random_search.best_params_)\n",
    "print(f\"Mejor score (accuracy): {random_search.best_score_:.4f}\")"
   ]
  },
  {
   "cell_type": "markdown",
   "metadata": {},
   "source": [
    "11. Calcular la matriz de confusion y las metricas de Exactitud, MCC y Coeficiente Kappa de la prediccion del conjunto de testeo del modelo con los mejores hiperparametros encontrados."
   ]
  },
  {
   "cell_type": "code",
   "execution_count": 113,
   "metadata": {},
   "outputs": [
    {
     "name": "stdout",
     "output_type": "stream",
     "text": [
      "Matriz de confusión - Testeo con mejores hiperparámetros:\n",
      "[[688   4   1  34  19  23]\n",
      " [  1 871   1   0   5   0]\n",
      " [  3   1 480   0   8   0]\n",
      " [ 14   0   0 488   7  72]\n",
      " [  1   1   0  20 871  10]\n",
      " [  3   0   0   9   5 533]]\n",
      "\n",
      "Métricas de rendimiento - Testeo con mejores hiperparámetros\n",
      "Exactitud: 0.9420\n",
      "MCC: 0.9301\n",
      "Coeficiente Kappa: 0.9297\n"
     ]
    }
   ],
   "source": [
    "from sklearn.metrics import confusion_matrix, accuracy_score, cohen_kappa_score, matthews_corrcoef\n",
    "\n",
    "# 1. Predicciones en el conjunto de testeo\n",
    "y_test_pred_best = random_search.predict(X_test)\n",
    "\n",
    "# 2. Matriz de confusión\n",
    "cm_test_best = confusion_matrix(y_test, y_test_pred_best)\n",
    "\n",
    "# 3. Métricas de rendimiento\n",
    "accuracy_test_best = accuracy_score(y_test, y_test_pred_best)\n",
    "mcc_test_best = matthews_corrcoef(y_test, y_test_pred_best)\n",
    "kappa_test_best = cohen_kappa_score(y_test, y_test_pred_best)\n",
    "\n",
    "# 4. Mostrar resultados\n",
    "print(\"Matriz de confusión - Testeo con mejores hiperparámetros:\")\n",
    "print(cm_test_best)\n",
    "\n",
    "print(\"\\nMétricas de rendimiento - Testeo con mejores hiperparámetros\")\n",
    "print(f\"Exactitud: {accuracy_test_best:.4f}\")\n",
    "print(f\"MCC: {mcc_test_best:.4f}\")\n",
    "print(f\"Coeficiente Kappa: {kappa_test_best:.4f}\")"
   ]
  }
 ],
 "metadata": {
  "kernelspec": {
   "display_name": "IMA539_2024_2",
   "language": "python",
   "name": "python3"
  },
  "language_info": {
   "codemirror_mode": {
    "name": "ipython",
    "version": 3
   },
   "file_extension": ".py",
   "mimetype": "text/x-python",
   "name": "python",
   "nbconvert_exporter": "python",
   "pygments_lexer": "ipython3",
   "version": "3.9.20"
  }
 },
 "nbformat": 4,
 "nbformat_minor": 2
}
