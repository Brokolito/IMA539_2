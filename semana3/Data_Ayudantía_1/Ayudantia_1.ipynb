{
 "cells": [
  {
   "cell_type": "markdown",
   "metadata": {},
   "source": [
    "<h3><center>Clase ejercicios 01 - IMA539.</center></h3>\n",
    "<center>Camilo Calfucoy, Jorge Ruíz</center>\n",
    "\n",
    "<center>Departamento de Ingeniería Matemática</center>\n",
    "\n",
    "<center>Agosto 26, 2024.</center>\n"
   ]
  },
  {
   "cell_type": "markdown",
   "metadata": {},
   "source": [
    "# **Análisis de la Pérdida de Clientes en un Banco Multinacional**\n",
    "\n",
    "## **Contexto**\n",
    "\n",
    "En este proyecto, utilizaremos un conjunto de datos denominado ``\"Bank Customer Churn Prediction.csv\"`` de un banco multinacional (ABC Multistate Bank) para predecir la pérdida de clientes, comúnmente conocida como *churn* en inglés. La pérdida de clientes es un problema crítico en la industria bancaria, ya que adquirir nuevos clientes suele ser más costoso que retener a los existentes. Por lo tanto, predecir qué clientes tienen más probabilidades de dejar el banco puede ayudar a implementar estrategias de retención más efectivas.\n",
    "\n",
    "## **Descripción del Conjunto de Datos**\n",
    "\n",
    "El conjunto de datos contiene información sobre los clientes del banco, con un total de 12 variables, descritas a continuación:\n",
    "\n",
    "- `customer_id`: Identificador único de cada cliente (variable no utilizada en el análisis).\n",
    "- `credit_score`: Puntaje crediticio del cliente, usado como una medida de riesgo.\n",
    "- `country`: País de residencia del cliente.\n",
    "- `gender`: Género del cliente.\n",
    "- `age`: Edad del cliente.\n",
    "- `tenure`: Tiempo que el cliente ha estado con el banco (en años).\n",
    "- `balance`: Saldo actual en la cuenta del cliente.\n",
    "- `products_number`: Número de productos bancarios contratados por el cliente.\n",
    "- `credit_card`: Indica si el cliente tiene una tarjeta de crédito con el banco (1 para sí, 0 para no).\n",
    "- `active_member`: Indica si el cliente es un miembro activo (1 para sí, 0 para no).\n",
    "- `estimated_salary`: Salario estimado del cliente.\n",
    "- `churn`: Variable objetivo que indica si el cliente ha dejado el banco (1 para sí, 0 para no)."
   ]
  },
  {
   "cell_type": "markdown",
   "metadata": {},
   "source": [
    "\n",
    "## Ejercicios propuestos:\n",
    "\n",
    "1. Menciona un objetivo que se podría plantear al realizar un análisis en esta base de datos (`Bank Customer Churn Prediction.csv`).\n"
   ]
  },
  {
   "cell_type": "code",
   "execution_count": null,
   "metadata": {},
   "outputs": [],
   "source": []
  },
  {
   "cell_type": "markdown",
   "metadata": {},
   "source": [
    "2. Cargue el archivo `Bank Customer Churn Prediction.csv` en un DataFrame utilizando Pandas."
   ]
  },
  {
   "cell_type": "code",
   "execution_count": null,
   "metadata": {},
   "outputs": [],
   "source": [
    "import pandas as pd\n",
    "\n",
    "df = pd.read_csv('Bank Customer Churn Prediction.csv')\n",
    "df.head()"
   ]
  },
  {
   "cell_type": "markdown",
   "metadata": {},
   "source": [
    "3. Realice un análisis exploratorio de los datos. Identifique variables numéricas y categóricas, y comente las principales características estadísticas."
   ]
  },
  {
   "cell_type": "code",
   "execution_count": null,
   "metadata": {},
   "outputs": [],
   "source": []
  },
  {
   "cell_type": "markdown",
   "metadata": {},
   "source": [
    "4. Cree un dataframe eliminando las columnas que no aportan al análisis (mantenga las variables continuas)."
   ]
  },
  {
   "cell_type": "code",
   "execution_count": null,
   "metadata": {},
   "outputs": [],
   "source": []
  },
  {
   "cell_type": "markdown",
   "metadata": {},
   "source": [
    "5. Encuentre dos variables en las que las clases no sean linealmente separables."
   ]
  },
  {
   "cell_type": "code",
   "execution_count": null,
   "metadata": {},
   "outputs": [],
   "source": []
  },
  {
   "cell_type": "markdown",
   "metadata": {},
   "source": [
    "6. Plotee las dos variables seleccionadas en un gráfico de dispersión, coloreando los puntos según la clase."
   ]
  },
  {
   "cell_type": "code",
   "execution_count": null,
   "metadata": {},
   "outputs": [],
   "source": []
  },
  {
   "cell_type": "markdown",
   "metadata": {},
   "source": [
    "7. Cree un conjunto de entrenamiento utilizando el 70% de los datos y un 30% para el conjunto de testeo. Verifique el balance de clases en ambos conjuntos."
   ]
  },
  {
   "cell_type": "code",
   "execution_count": null,
   "metadata": {},
   "outputs": [],
   "source": [
    "\n"
   ]
  },
  {
   "cell_type": "markdown",
   "metadata": {},
   "source": [
    "8. Corra el algoritmo Perceptron con 10 iteraciones sobre el conjunto de entrenamiento."
   ]
  },
  {
   "cell_type": "code",
   "execution_count": null,
   "metadata": {},
   "outputs": [],
   "source": []
  },
  {
   "cell_type": "markdown",
   "metadata": {},
   "source": [
    "9. Utilice la función `plot_decision_regions()` para visualizar la frontera de decisión obtenida por el Perceptron."
   ]
  },
  {
   "cell_type": "code",
   "execution_count": null,
   "metadata": {},
   "outputs": [],
   "source": []
  },
  {
   "cell_type": "markdown",
   "metadata": {},
   "source": [
    "10. Implemente dos funciones en la clase `AdalineSGD`: una que imprima en pantalla los pesos actuales y otra que imprima el costo cuadrado promedio asociado a un conjunto de datos. Pruebe las funciones implementadas."
   ]
  },
  {
   "cell_type": "code",
   "execution_count": null,
   "metadata": {},
   "outputs": [],
   "source": []
  },
  {
   "cell_type": "markdown",
   "metadata": {},
   "source": [
    "11. Entrene el modelo de manera sucesiva `AdalineSGD` y comparando el cambio de los pesos y el avance de los costos utilizando `partial_fit` para 5, 6, 7, 8, 9 y 10 iteraciones."
   ]
  },
  {
   "cell_type": "code",
   "execution_count": null,
   "metadata": {},
   "outputs": [],
   "source": []
  },
  {
   "cell_type": "markdown",
   "metadata": {},
   "source": [
    "12. Entrene un modelo de regresión logística utilizando la implementación `LogisticRegressionGD`."
   ]
  },
  {
   "cell_type": "code",
   "execution_count": null,
   "metadata": {},
   "outputs": [],
   "source": []
  },
  {
   "cell_type": "markdown",
   "metadata": {},
   "source": [
    "13. Identifique las observaciones que fueron erróneamente clasificadas por el modelo en el conjunto de entrenamiento."
   ]
  },
  {
   "cell_type": "code",
   "execution_count": null,
   "metadata": {},
   "outputs": [],
   "source": []
  },
  {
   "cell_type": "markdown",
   "metadata": {},
   "source": [
    "14. Estudiar si todos los datos de testeo son bien identificados por la implementación de `LogisticRegression` de Sklearn."
   ]
  },
  {
   "cell_type": "code",
   "execution_count": null,
   "metadata": {},
   "outputs": [],
   "source": []
  },
  {
   "cell_type": "markdown",
   "metadata": {},
   "source": [
    "15. Modifique la implementación de `LogisticRegressionGD` para incorporar regularización L2. Evalúe el impacto de la regularización sobre el desempeño del modelo en términos de precisión y sobreajuste."
   ]
  },
  {
   "cell_type": "code",
   "execution_count": null,
   "metadata": {},
   "outputs": [],
   "source": []
  },
  {
   "cell_type": "code",
   "execution_count": null,
   "metadata": {},
   "outputs": [],
   "source": [
    "log_reg = LogisticRegressionGD(eta=0.05, n_iter=100, random_state=1, l2=0.1)\n",
    "log_reg.fit(X_train_std, y_train)\n",
    "y_train_pred = log_reg.predict(X_train_std)\n",
    "err_classified = (y_train != y_train_pred).sum()\n",
    "print(f'Número de observaciones erróneamente clasificadas: {err_classified}')"
   ]
  },
  {
   "cell_type": "markdown",
   "metadata": {},
   "source": [
    "16. Reflexione sobre los resultados obtenidos. ¿Qué aspectos del preprocesamiento, selección de variables o regularización fueron más influyentes en la calidad del modelo?"
   ]
  },
  {
   "cell_type": "markdown",
   "metadata": {},
   "source": []
  }
 ],
 "metadata": {
  "kernelspec": {
   "display_name": "ima539",
   "language": "python",
   "name": "python3"
  },
  "language_info": {
   "codemirror_mode": {
    "name": "ipython",
    "version": 3
   },
   "file_extension": ".py",
   "mimetype": "text/x-python",
   "name": "python",
   "nbconvert_exporter": "python",
   "pygments_lexer": "ipython3",
   "version": "3.9.0"
  }
 },
 "nbformat": 4,
 "nbformat_minor": 2
}
